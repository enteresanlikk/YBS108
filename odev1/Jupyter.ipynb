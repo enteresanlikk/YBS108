{
 "cells": [
  {
   "cell_type": "code",
   "execution_count": 1,
   "metadata": {},
   "outputs": [
    {
     "name": "stdout",
     "output_type": "stream",
     "text": [
      "['\"kelime\" 6', '\"paragraftır\" 11', '\"yıkıldı\" 7', '\"rastsdfsdfdsfsdfgele\" 20']\n",
      "\n",
      "\"kelime\" 6\n",
      "\n",
      "\"kelime\" 6\n",
      "\"paragraftır\" 11\n",
      "\"yıkıldı\" 7\n",
      "\"rastsdfsdfdsfsdfgele\" 20\n"
     ]
    }
   ],
   "source": [
    "def removeNumbers(text):\n",
    "    return ''.join(i for i in text if not i.isdigit())\n",
    "\n",
    "def removeSpecials(text):\n",
    "    text = removeNumbers(text)\n",
    "    for item in [\"\\n\", \"'\", '\"', \".\", \",\", \"!\", \"?\", \"_\", \"(\", \")\", \"-\"]:\n",
    "        text = text.replace(item, \" \")\n",
    "    return text\n",
    "\n",
    "def getWord(text):\n",
    "    text = removeSpecials(text)\n",
    "    words = text.split(\" \")\n",
    "    return sorted(words, key=lambda x: len(x), reverse=True)[0]\n",
    "\n",
    "def getInfo(text):\n",
    "    word = getWord(text)\n",
    "    if word:\n",
    "        return f'\"{word}\" {len(word)}'\n",
    "    return 'EMPTY_TEXT'\n",
    "\n",
    "def getInfos(texts):\n",
    "    return [getInfo(text) for text in texts]\n",
    "\n",
    "texts = [\n",
    "    \"en uzun kelime nedir?\",\n",
    "\n",
    "    \"Metni oluşturan en büyük yapı paragraftır. Paragrafın oluşumu konuyla doğrudan ilgilidir.\",\n",
    "\n",
    "    \"Ahmet'in 1.325.000TL'ye aldığı ev yıkıldı.\",\n",
    "\n",
    "    \"\"\"Nereden Gelir?\n",
    "    Yaygın inancın tersine, Lorem Ipsum rastsdfsdfdsfsdfgele sözcüklerden oluşmaz. Kökleri M.Ö. 45 tarihinden bu yana klasik Latin edebiyatına kadar uzanan 2000 yıllık bir geçmişi vardır. Virginia'daki Hampden-Sydney College'dan Latince profesörü Richard McClintock, bir Lorem Ipsum pasajında geçen ve anlaşılması en güç sözcüklerden biri olan 'consectetur' sözcüğünün klasik edebiyattaki örneklerini incelediğinde kesin bir kaynağa ulaşmıştır. Lorm Ipsum, Çiçero tarafından M.Ö. 45 tarihinde kaleme alınan \"de Finibus Bonorum et Malorum\" (İyi ve Kötünün Uç Sınırları) eserinin 1.10.32 ve 1.10.33 sayılı bölümlerinden gelmektedir. Bu kitap, ahlak kuramı üzerine bir tezdir ve Rönesans döneminde çok popüler olmuştur. Lorem Ipsum pasajının ilk satırı olan \"Lorem ipsum dolor sit amet\" 1.10.32 sayılı bölümdeki bir satırdan gelmektedir.\n",
    "\n",
    "    1500'lerden beri kullanılmakta olan standard Lorem Ipsum metinleri ilgilenenler için yeniden üretilmiştir. Çiçero tarafından yazılan 1.10.32 ve 1.10.33 bölümleri de 1914 H. Rackham çevirisinden alınan İngilizce sürümleri eşliğinde özgün biçiminden yeniden üretilmiştir.\"\"\"\n",
    "]\n",
    "\n",
    "#region Çoklu cümle kontrol için\n",
    "print(getInfos(texts))\n",
    "#endregion\n",
    "\n",
    "print()\n",
    "\n",
    "#region Tek cümle kontrolü için\n",
    "print(getInfo(texts[0]))\n",
    "\n",
    "print()\n",
    "\n",
    "for text in texts:\n",
    "    print(getInfo(text))\n",
    "#endregion"
   ]
  }
 ],
 "metadata": {
  "kernelspec": {
   "display_name": "Python 3",
   "language": "python",
   "name": "python3"
  },
  "language_info": {
   "codemirror_mode": {
    "name": "ipython",
    "version": 3
   },
   "file_extension": ".py",
   "mimetype": "text/x-python",
   "name": "python",
   "nbconvert_exporter": "python",
   "pygments_lexer": "ipython3",
   "version": "3.8.5"
  }
 },
 "nbformat": 4,
 "nbformat_minor": 4
}
